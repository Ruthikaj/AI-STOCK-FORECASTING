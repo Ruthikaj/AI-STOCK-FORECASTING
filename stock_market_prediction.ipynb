{
 "cells": [
  {
   "cell_type": "code",
   "execution_count": 7,
   "metadata": {
    "colab": {
     "base_uri": "https://localhost:8080/"
    },
    "id": "cC4o5RbBmIO2",
    "outputId": "0cc4e3ef-6f93-4e8c-f8dc-67eecafbdee6"
   },
   "outputs": [
    {
     "name": "stdout",
     "output_type": "stream",
     "text": [
      "Requirement already satisfied: streamlit in c:\\users\\user\\appdata\\local\\programs\\python\\python312\\lib\\site-packages (1.33.0)\n",
      "Requirement already satisfied: pyngrok in c:\\users\\user\\appdata\\local\\programs\\python\\python312\\lib\\site-packages (7.2.1)\n",
      "Requirement already satisfied: yfinance in c:\\users\\user\\appdata\\local\\programs\\python\\python312\\lib\\site-packages (0.2.38)\n",
      "Requirement already satisfied: scikit-learn in c:\\users\\user\\appdata\\local\\programs\\python\\python312\\lib\\site-packages (1.5.2)\n",
      "Requirement already satisfied: ta in c:\\users\\user\\appdata\\local\\programs\\python\\python312\\lib\\site-packages (0.11.0)\n",
      "Requirement already satisfied: xgboost in c:\\users\\user\\appdata\\local\\programs\\python\\python312\\lib\\site-packages (2.1.2)\n",
      "Requirement already satisfied: altair<6,>=4.0 in c:\\users\\user\\appdata\\local\\programs\\python\\python312\\lib\\site-packages (from streamlit) (5.4.1)\n",
      "Requirement already satisfied: blinker<2,>=1.0.0 in c:\\users\\user\\appdata\\local\\programs\\python\\python312\\lib\\site-packages (from streamlit) (1.8.2)\n",
      "Requirement already satisfied: cachetools<6,>=4.0 in c:\\users\\user\\appdata\\local\\programs\\python\\python312\\lib\\site-packages (from streamlit) (5.5.0)\n",
      "Requirement already satisfied: click<9,>=7.0 in c:\\users\\user\\appdata\\local\\programs\\python\\python312\\lib\\site-packages (from streamlit) (8.1.7)\n",
      "Requirement already satisfied: numpy<2,>=1.19.3 in c:\\users\\user\\appdata\\local\\programs\\python\\python312\\lib\\site-packages (from streamlit) (1.26.4)\n",
      "Requirement already satisfied: packaging<25,>=16.8 in c:\\users\\user\\appdata\\local\\programs\\python\\python312\\lib\\site-packages (from streamlit) (23.2)\n",
      "Requirement already satisfied: pandas<3,>=1.3.0 in c:\\users\\user\\appdata\\local\\programs\\python\\python312\\lib\\site-packages (from streamlit) (2.2.2)\n",
      "Requirement already satisfied: pillow<11,>=7.1.0 in c:\\users\\user\\appdata\\local\\programs\\python\\python312\\lib\\site-packages (from streamlit) (10.4.0)\n",
      "Requirement already satisfied: protobuf<5,>=3.20 in c:\\users\\user\\appdata\\local\\programs\\python\\python312\\lib\\site-packages (from streamlit) (4.25.4)\n",
      "Requirement already satisfied: pyarrow>=7.0 in c:\\users\\user\\appdata\\local\\programs\\python\\python312\\lib\\site-packages (from streamlit) (17.0.0)\n",
      "Requirement already satisfied: requests<3,>=2.27 in c:\\users\\user\\appdata\\local\\programs\\python\\python312\\lib\\site-packages (from streamlit) (2.32.3)\n",
      "Requirement already satisfied: rich<14,>=10.14.0 in c:\\users\\user\\appdata\\local\\programs\\python\\python312\\lib\\site-packages (from streamlit) (13.8.1)\n",
      "Requirement already satisfied: tenacity<9,>=8.1.0 in c:\\users\\user\\appdata\\local\\programs\\python\\python312\\lib\\site-packages (from streamlit) (8.5.0)\n",
      "Requirement already satisfied: toml<2,>=0.10.1 in c:\\users\\user\\appdata\\local\\programs\\python\\python312\\lib\\site-packages (from streamlit) (0.10.2)\n",
      "Requirement already satisfied: typing-extensions<5,>=4.3.0 in c:\\users\\user\\appdata\\local\\programs\\python\\python312\\lib\\site-packages (from streamlit) (4.12.2)\n",
      "Requirement already satisfied: gitpython!=3.1.19,<4,>=3.0.7 in c:\\users\\user\\appdata\\local\\programs\\python\\python312\\lib\\site-packages (from streamlit) (3.1.43)\n",
      "Requirement already satisfied: pydeck<1,>=0.8.0b4 in c:\\users\\user\\appdata\\local\\programs\\python\\python312\\lib\\site-packages (from streamlit) (0.9.1)\n",
      "Requirement already satisfied: tornado<7,>=6.0.3 in c:\\users\\user\\appdata\\roaming\\python\\python312\\site-packages (from streamlit) (6.4.1)\n",
      "Requirement already satisfied: watchdog>=2.1.5 in c:\\users\\user\\appdata\\local\\programs\\python\\python312\\lib\\site-packages (from streamlit) (4.0.2)\n",
      "Requirement already satisfied: PyYAML>=5.1 in c:\\users\\user\\appdata\\local\\programs\\python\\python312\\lib\\site-packages (from pyngrok) (6.0.2)\n",
      "Requirement already satisfied: multitasking>=0.0.7 in c:\\users\\user\\appdata\\local\\programs\\python\\python312\\lib\\site-packages (from yfinance) (0.0.11)\n",
      "Requirement already satisfied: lxml>=4.9.1 in c:\\users\\user\\appdata\\local\\programs\\python\\python312\\lib\\site-packages (from yfinance) (5.3.0)\n",
      "Requirement already satisfied: appdirs>=1.4.4 in c:\\users\\user\\appdata\\local\\programs\\python\\python312\\lib\\site-packages (from yfinance) (1.4.4)\n",
      "Requirement already satisfied: pytz>=2022.5 in c:\\users\\user\\appdata\\local\\programs\\python\\python312\\lib\\site-packages (from yfinance) (2024.2)\n",
      "Requirement already satisfied: frozendict>=2.3.4 in c:\\users\\user\\appdata\\local\\programs\\python\\python312\\lib\\site-packages (from yfinance) (2.4.6)\n",
      "Requirement already satisfied: peewee>=3.16.2 in c:\\users\\user\\appdata\\local\\programs\\python\\python312\\lib\\site-packages (from yfinance) (3.17.7)\n",
      "Requirement already satisfied: beautifulsoup4>=4.11.1 in c:\\users\\user\\appdata\\local\\programs\\python\\python312\\lib\\site-packages (from yfinance) (4.12.3)\n",
      "Requirement already satisfied: html5lib>=1.1 in c:\\users\\user\\appdata\\local\\programs\\python\\python312\\lib\\site-packages (from yfinance) (1.1)\n",
      "Requirement already satisfied: scipy>=1.6.0 in c:\\users\\user\\appdata\\local\\programs\\python\\python312\\lib\\site-packages (from scikit-learn) (1.13.0)\n",
      "Requirement already satisfied: joblib>=1.2.0 in c:\\users\\user\\appdata\\local\\programs\\python\\python312\\lib\\site-packages (from scikit-learn) (1.4.2)\n",
      "Requirement already satisfied: threadpoolctl>=3.1.0 in c:\\users\\user\\appdata\\local\\programs\\python\\python312\\lib\\site-packages (from scikit-learn) (3.5.0)\n",
      "Requirement already satisfied: jinja2 in c:\\users\\user\\appdata\\local\\programs\\python\\python312\\lib\\site-packages (from altair<6,>=4.0->streamlit) (3.1.4)\n",
      "Requirement already satisfied: jsonschema>=3.0 in c:\\users\\user\\appdata\\local\\programs\\python\\python312\\lib\\site-packages (from altair<6,>=4.0->streamlit) (4.23.0)\n",
      "Requirement already satisfied: narwhals>=1.5.2 in c:\\users\\user\\appdata\\local\\programs\\python\\python312\\lib\\site-packages (from altair<6,>=4.0->streamlit) (1.8.0)\n",
      "Requirement already satisfied: soupsieve>1.2 in c:\\users\\user\\appdata\\local\\programs\\python\\python312\\lib\\site-packages (from beautifulsoup4>=4.11.1->yfinance) (2.6)\n",
      "Requirement already satisfied: colorama in c:\\users\\user\\appdata\\local\\programs\\python\\python312\\lib\\site-packages (from click<9,>=7.0->streamlit) (0.4.6)\n",
      "Requirement already satisfied: gitdb<5,>=4.0.1 in c:\\users\\user\\appdata\\local\\programs\\python\\python312\\lib\\site-packages (from gitpython!=3.1.19,<4,>=3.0.7->streamlit) (4.0.11)\n",
      "Requirement already satisfied: six>=1.9 in c:\\users\\user\\appdata\\local\\programs\\python\\python312\\lib\\site-packages (from html5lib>=1.1->yfinance) (1.16.0)\n",
      "Requirement already satisfied: webencodings in c:\\users\\user\\appdata\\local\\programs\\python\\python312\\lib\\site-packages (from html5lib>=1.1->yfinance) (0.5.1)\n",
      "Requirement already satisfied: python-dateutil>=2.8.2 in c:\\users\\user\\appdata\\local\\programs\\python\\python312\\lib\\site-packages (from pandas<3,>=1.3.0->streamlit) (2.9.0.post0)\n",
      "Requirement already satisfied: tzdata>=2022.7 in c:\\users\\user\\appdata\\local\\programs\\python\\python312\\lib\\site-packages (from pandas<3,>=1.3.0->streamlit) (2024.1)\n",
      "Requirement already satisfied: charset-normalizer<4,>=2 in c:\\users\\user\\appdata\\local\\programs\\python\\python312\\lib\\site-packages (from requests<3,>=2.27->streamlit) (3.3.2)\n",
      "Requirement already satisfied: idna<4,>=2.5 in c:\\users\\user\\appdata\\local\\programs\\python\\python312\\lib\\site-packages (from requests<3,>=2.27->streamlit) (3.9)\n",
      "Requirement already satisfied: urllib3<3,>=1.21.1 in c:\\users\\user\\appdata\\local\\programs\\python\\python312\\lib\\site-packages (from requests<3,>=2.27->streamlit) (2.2.3)\n",
      "Requirement already satisfied: certifi>=2017.4.17 in c:\\users\\user\\appdata\\local\\programs\\python\\python312\\lib\\site-packages (from requests<3,>=2.27->streamlit) (2024.8.30)\n",
      "Requirement already satisfied: markdown-it-py>=2.2.0 in c:\\users\\user\\appdata\\local\\programs\\python\\python312\\lib\\site-packages (from rich<14,>=10.14.0->streamlit) (3.0.0)\n",
      "Requirement already satisfied: pygments<3.0.0,>=2.13.0 in c:\\users\\user\\appdata\\roaming\\python\\python312\\site-packages (from rich<14,>=10.14.0->streamlit) (2.18.0)\n",
      "Requirement already satisfied: smmap<6,>=3.0.1 in c:\\users\\user\\appdata\\local\\programs\\python\\python312\\lib\\site-packages (from gitdb<5,>=4.0.1->gitpython!=3.1.19,<4,>=3.0.7->streamlit) (5.0.1)\n",
      "Requirement already satisfied: MarkupSafe>=2.0 in c:\\users\\user\\appdata\\local\\programs\\python\\python312\\lib\\site-packages (from jinja2->altair<6,>=4.0->streamlit) (2.1.5)\n",
      "Requirement already satisfied: attrs>=22.2.0 in c:\\users\\user\\appdata\\local\\programs\\python\\python312\\lib\\site-packages (from jsonschema>=3.0->altair<6,>=4.0->streamlit) (24.2.0)\n",
      "Requirement already satisfied: jsonschema-specifications>=2023.03.6 in c:\\users\\user\\appdata\\local\\programs\\python\\python312\\lib\\site-packages (from jsonschema>=3.0->altair<6,>=4.0->streamlit) (2023.12.1)\n",
      "Requirement already satisfied: referencing>=0.28.4 in c:\\users\\user\\appdata\\local\\programs\\python\\python312\\lib\\site-packages (from jsonschema>=3.0->altair<6,>=4.0->streamlit) (0.35.1)\n",
      "Requirement already satisfied: rpds-py>=0.7.1 in c:\\users\\user\\appdata\\local\\programs\\python\\python312\\lib\\site-packages (from jsonschema>=3.0->altair<6,>=4.0->streamlit) (0.20.0)\n",
      "Requirement already satisfied: mdurl~=0.1 in c:\\users\\user\\appdata\\local\\programs\\python\\python312\\lib\\site-packages (from markdown-it-py>=2.2.0->rich<14,>=10.14.0->streamlit) (0.1.2)\n"
     ]
    }
   ],
   "source": [
    "!pip install streamlit pyngrok yfinance scikit-learn ta xgboost"
   ]
  },
  {
   "cell_type": "code",
   "execution_count": 8,
   "metadata": {},
   "outputs": [
    {
     "name": "stdout",
     "output_type": "stream",
     "text": [
      "Streamlit app is running on NgrokTunnel: \"https://c0fa-157-51-185-216.ngrok-free.app\" -> \"http://localhost:8501\"\n"
     ]
    },
    {
     "name": "stderr",
     "output_type": "stream",
     "text": [
      "t=2024-11-08T22:42:51-0800 lvl=eror msg=\"session closed, starting reconnect loop\" obj=tunnels.session obj=csess id=230def36bbe9 err=\"read tcp 192.168.117.254:59454->3.134.73.173:443: wsarecv: An established connection was aborted by the software in your host machine.\"\n",
      "t=2024-11-08T22:42:51-0800 lvl=eror msg=\"failed to reconnect session\" obj=tunnels.session err=\"failed to dial ngrok server with address \\\"connect.us.ngrok-agent.com:443\\\": dial tcp: lookup connect.us.ngrok-agent.com: no such host\"\n",
      "t=2024-11-08T22:42:52-0800 lvl=eror msg=\"failed to reconnect session\" obj=tunnels.session err=\"failed to dial ngrok server with address \\\"connect.us.ngrok-agent.com:443\\\": dial tcp: lookup connect.us.ngrok-agent.com: no such host\"\n",
      "t=2024-11-08T22:42:53-0800 lvl=eror msg=\"failed to reconnect session\" obj=tunnels.session err=\"failed to dial ngrok server with address \\\"connect.us.ngrok-agent.com:443\\\": dial tcp: lookup connect.us.ngrok-agent.com: no such host\"\n",
      "t=2024-11-08T22:42:55-0800 lvl=eror msg=\"failed to reconnect session\" obj=tunnels.session err=\"failed to dial ngrok server with address \\\"connect.us.ngrok-agent.com:443\\\": dial tcp: lookup connect.us.ngrok-agent.com: no such host\"\n",
      "t=2024-11-08T22:42:59-0800 lvl=eror msg=\"failed to reconnect session\" obj=tunnels.session err=\"failed to dial ngrok server with address \\\"connect.us.ngrok-agent.com:443\\\": dial tcp: lookup connect.us.ngrok-agent.com: no such host\"\n",
      "t=2024-11-08T22:43:07-0800 lvl=eror msg=\"failed to reconnect session\" obj=tunnels.session err=\"failed to dial ngrok server with address \\\"connect.us.ngrok-agent.com:443\\\": dial tcp: lookup connect.us.ngrok-agent.com: no such host\"\n",
      "t=2024-11-08T22:43:07-0800 lvl=eror msg=\"heartbeat timeout, terminating session\" obj=tunnels.session obj=csess id=bb72fc3ffd6d clientid=a2982948f51c6b34485d6530df5ddcfa\n",
      "t=2024-11-08T22:43:23-0800 lvl=eror msg=\"failed to reconnect session\" obj=tunnels.session err=\"failed to dial ngrok server with address \\\"connect.us.ngrok-agent.com:443\\\": dial tcp: lookup connect.us.ngrok-agent.com: no such host\"\n",
      "t=2024-11-08T22:43:53-0800 lvl=eror msg=\"failed to reconnect session\" obj=tunnels.session err=\"failed to dial ngrok server with address \\\"connect.us.ngrok-agent.com:443\\\": dial tcp: lookup connect.us.ngrok-agent.com: no such host\"\n",
      "t=2024-11-08T22:44:23-0800 lvl=eror msg=\"failed to reconnect session\" obj=tunnels.session err=\"failed to dial ngrok server with address \\\"connect.us.ngrok-agent.com:443\\\": dial tcp: lookup connect.us.ngrok-agent.com: no such host\"\n",
      "t=2024-11-08T22:44:53-0800 lvl=eror msg=\"failed to reconnect session\" obj=tunnels.session err=\"failed to dial ngrok server with address \\\"connect.us.ngrok-agent.com:443\\\": dial tcp: lookup connect.us.ngrok-agent.com: no such host\"\n"
     ]
    }
   ],
   "source": [
    "from pyngrok import ngrok\n",
    "\n",
    "# Insert your actual ngrok auth token here\n",
    "ngrok.set_auth_token(\"2obKsgMWlw5lblFnCHYZedk0URu_5MjHpKJ6yyEUrp54B5dMb\")\n",
    "\n",
    "# Start the ngrok tunnel on port 8501\n",
    "public_url = ngrok.connect(8501)\n",
    "print(f\"Streamlit app is running on {public_url}\")\n"
   ]
  },
  {
   "cell_type": "code",
   "execution_count": 10,
   "metadata": {
    "id": "jzYbYGUOm5Qk"
   },
   "outputs": [
    {
     "name": "stdout",
     "output_type": "stream",
     "text": [
      "Streamlit app code has been written to app.py\n"
     ]
    }
   ],
   "source": [
    "with open('app.py', 'w') as f:\n",
    "    f.write(\"\"\"\n",
    "import streamlit as st\n",
    "import pandas as pd\n",
    "import yfinance as yf\n",
    "from ta.volatility import BollingerBands\n",
    "from ta.trend import MACD, EMAIndicator, SMAIndicator\n",
    "from ta.momentum import RSIIndicator\n",
    "import datetime\n",
    "from datetime import date\n",
    "from sklearn.preprocessing import StandardScaler\n",
    "from sklearn.model_selection import train_test_split\n",
    "from sklearn.linear_model import LinearRegression\n",
    "from sklearn.neighbors import KNeighborsRegressor\n",
    "from xgboost import XGBRegressor\n",
    "from sklearn.ensemble import RandomForestRegressor\n",
    "from sklearn.ensemble import ExtraTreesRegressor\n",
    "from sklearn.metrics import r2_score, mean_absolute_error\n",
    "\n",
    "st.title('Stock Price Predictions')\n",
    "st.sidebar.info('Welcome to the Stock Price Prediction App. Choose your options below')\n",
    "\n",
    "def main():\n",
    "    option = st.sidebar.selectbox('Make a choice', ['Visualize','Recent Data', 'Predict'])\n",
    "    if option == 'Visualize':\n",
    "        tech_indicators()\n",
    "    elif option == 'Recent Data':\n",
    "        dataframe()\n",
    "    else:\n",
    "        predict()\n",
    "\n",
    "@st.cache_resource\n",
    "def download_data(op, start_date, end_date):\n",
    "    df = yf.download(op, start=start_date, end=end_date, progress=False)\n",
    "    return df\n",
    "\n",
    "option = st.sidebar.text_input('Enter a Stock Symbol', value='SPY')\n",
    "option = option.upper()\n",
    "today = datetime.date.today()\n",
    "duration = st.sidebar.number_input('Enter the duration', value=3000)\n",
    "before = today - datetime.timedelta(days=duration)\n",
    "start_date = st.sidebar.date_input('Start Date', value=before)\n",
    "end_date = st.sidebar.date_input('End date', today)\n",
    "if st.sidebar.button('Send'):\n",
    "    if start_date < end_date:\n",
    "        st.sidebar.success(f'Start date: {start_date}\\n\\nEnd date: {end_date}')\n",
    "        download_data(option, start_date, end_date)\n",
    "    else:\n",
    "        st.sidebar.error('Error: End date must fall after start date')\n",
    "\n",
    "data = download_data(option, start_date, end_date)\n",
    "scaler = StandardScaler()\n",
    "\n",
    "def tech_indicators():\n",
    "    st.header('Technical Indicators')\n",
    "    option = st.radio('Choose a Technical Indicator to Visualize', ['Close', 'BB', 'MACD', 'RSI', 'SMA', 'EMA'])\n",
    "\n",
    "    # Bollinger bands\n",
    "    bb_indicator = BollingerBands(data.Close)\n",
    "    bb = data\n",
    "    bb['bb_h'] = bb_indicator.bollinger_hband()\n",
    "    bb['bb_l'] = bb_indicator.bollinger_lband()\n",
    "    # Creating a new dataframe\n",
    "    bb = bb[['Close', 'bb_h', 'bb_l']]\n",
    "    # MACD\n",
    "    macd = MACD(data.Close).macd()\n",
    "    # RSI\n",
    "    rsi = RSIIndicator(data.Close).rsi()\n",
    "    # SMA\n",
    "    sma = SMAIndicator(data.Close, window=14).sma_indicator()\n",
    "    # EMA\n",
    "    ema = EMAIndicator(data.Close).ema_indicator()\n",
    "\n",
    "    if option == 'Close':\n",
    "        st.write('Close Price')\n",
    "        st.line_chart(data.Close)\n",
    "    elif option == 'BB':\n",
    "        st.write('BollingerBands')\n",
    "        st.line_chart(bb)\n",
    "    elif option == 'MACD':\n",
    "        st.write('Moving Average Convergence Divergence')\n",
    "        st.line_chart(macd)\n",
    "    elif option == 'RSI':\n",
    "        st.write('Relative Strength Indicator')\n",
    "        st.line_chart(rsi)\n",
    "    elif option == 'SMA':\n",
    "        st.write('Simple Moving Average')\n",
    "        st.line_chart(sma)\n",
    "    else:\n",
    "        st.write('Exponential Moving Average')\n",
    "        st.line_chart(ema)\n",
    "\n",
    "def dataframe():\n",
    "    st.header('Recent Data')\n",
    "    st.dataframe(data.tail(10))\n",
    "\n",
    "def predict():\n",
    "    model = st.radio('Choose a model', ['LinearRegression', 'RandomForestRegressor', 'ExtraTreesRegressor', 'KNeighborsRegressor', 'XGBoostRegressor'])\n",
    "    num = st.number_input('How many days forecast?', value=5)\n",
    "    num = int(num)\n",
    "    if st.button('Predict'):\n",
    "        if model == 'LinearRegression':\n",
    "            engine = LinearRegression()\n",
    "            model_engine(engine, num)\n",
    "        elif model == 'RandomForestRegressor':\n",
    "            engine = RandomForestRegressor()\n",
    "            model_engine(engine, num)\n",
    "        elif model == 'ExtraTreesRegressor':\n",
    "            engine = ExtraTreesRegressor()\n",
    "            model_engine(engine, num)\n",
    "        elif model == 'KNeighborsRegressor':\n",
    "            engine = KNeighborsRegressor()\n",
    "            model_engine(engine, num)\n",
    "        else:\n",
    "            engine = XGBRegressor()\n",
    "            model_engine(engine, num)\n",
    "\n",
    "def model_engine(model, num):\n",
    "    # getting only the closing price\n",
    "    df = data[['Close']]\n",
    "    # shifting the closing price based on number of days forecast\n",
    "    df['preds'] = data.Close.shift(-num)\n",
    "    # scaling the data\n",
    "    x = df.drop(['preds'], axis=1).values\n",
    "    x = scaler.fit_transform(x)\n",
    "    # storing the last num_days data\n",
    "    x_forecast = x[-num:]\n",
    "    # selecting the required values for training\n",
    "    x = x[:-num]\n",
    "    # getting the preds column\n",
    "    y = df.preds.values\n",
    "    # selecting the required values for training\n",
    "    y = y[:-num]\n",
    "\n",
    "    #spliting the data\n",
    "    x_train, x_test, y_train, y_test = train_test_split(x, y, test_size=.2, random_state=7)\n",
    "    # training the model\n",
    "    model.fit(x_train, y_train)\n",
    "    preds = model.predict(x_test)\n",
    "    st.text(f'r2_score: {r2_score(y_test, preds)} \\nMAE: {mean_absolute_error(y_test, preds)}')\n",
    "    # predicting stock price based on the number of days\n",
    "    forecast_pred = model.predict(x_forecast)\n",
    "    day = 1\n",
    "    for i in forecast_pred:\n",
    "        st.text(f'Day {day}: {i}')\n",
    "        day += 1\n",
    "\n",
    "if __name__ == '__main__':\n",
    "    main()\n",
    "    \"\"\")\n",
    "\n",
    "print(\"Streamlit app code has been written to app.py\")\n"
   ]
  },
  {
   "cell_type": "code",
   "execution_count": 11,
   "metadata": {
    "id": "BxRglQzsnCfF"
   },
   "outputs": [],
   "source": [
    "import subprocess\n",
    "\n",
    "# Run the Streamlit app in the background\n",
    "process = subprocess.Popen(['streamlit', 'run', 'app.py', '--server.port', '8501'])"
   ]
  },
  {
   "cell_type": "code",
   "execution_count": 12,
   "metadata": {
    "id": "ejwY4W6NnFBV"
   },
   "outputs": [
    {
     "name": "stdout",
     "output_type": "stream",
     "text": [
      "Streamlit app is running on NgrokTunnel: \"https://d484-157-51-185-216.ngrok-free.app\" -> \"http://localhost:8501\"\n"
     ]
    }
   ],
   "source": [
    "# Display the public URL\n",
    "public_url = ngrok.connect(8501)\n",
    "print(f\"Streamlit app is running on {public_url}\")"
   ]
  }
 ],
 "metadata": {
  "colab": {
   "provenance": []
  },
  "kernelspec": {
   "display_name": "Python 3",
   "name": "python3"
  },
  "language_info": {
   "codemirror_mode": {
    "name": "ipython",
    "version": 3
   },
   "file_extension": ".py",
   "mimetype": "text/x-python",
   "name": "python",
   "nbconvert_exporter": "python",
   "pygments_lexer": "ipython3",
   "version": "3.9.7"
  }
 },
 "nbformat": 4,
 "nbformat_minor": 0
}
